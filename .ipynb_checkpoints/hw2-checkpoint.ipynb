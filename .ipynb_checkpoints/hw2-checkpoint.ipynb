{
 "cells": [
  {
   "cell_type": "markdown",
   "metadata": {},
   "source": [
    "# Q3 Sparsity-aware optimization"
   ]
  },
  {
   "cell_type": "markdown",
   "metadata": {},
   "source": [
    "### 3.1"
   ]
  },
  {
   "cell_type": "code",
   "execution_count": null,
   "metadata": {},
   "outputs": [],
   "source": [
    "import numpy as np \n",
    "\n",
    "x_all = np.array([[1, -2, -1, -1, 1],[2, -1, 2, 0, -2],[-1, 0, 2, 2, 1]])\n",
    "y_all = np.array([[-7], [-1], [-1]])\n",
    "W = np.array([0.,0.,0.,0.,0.]).transpose()"
   ]
  },
  {
   "cell_type": "code",
   "execution_count": null,
   "metadata": {},
   "outputs": [],
   "source": [
    "lr = 0.02\n",
    "iterations = 200\n",
    "dW = 0\n",
    "num = 3 # datapoints"
   ]
  },
  {
   "cell_type": "code",
   "execution_count": null,
   "metadata": {},
   "outputs": [],
   "source": [
    "W_np = np.empty(shape=(iterations, 5))\n",
    "\n",
    "for i in range(iterations):\n",
    "    dW = 0\n",
    "    for j in range(num):\n",
    "        x = x_all[j]\n",
    "        y = y_all[j]\n",
    "        grad = 2 * np.dot(np.power(x,2), W) - 2 * x * y\n",
    "        dW += grad\n",
    "    \n",
    "    W -= lr * (dW / float(num))\n",
    "    W_np[i, :] = W\n",
    "#print(W_np)\n",
    "# print(np.shape(W_np))"
   ]
  },
  {
   "cell_type": "code",
   "execution_count": null,
   "metadata": {},
   "outputs": [],
   "source": [
    "L_np = np.empty(shape=(iterations, 1))\n",
    "\n",
    "for i in range(iterations):\n",
    "    L = 0\n",
    "    for j in range(num):\n",
    "        x = x_all[j]\n",
    "        y = y_all[j]\n",
    "        W = W_np[i, :]\n",
    "        cur = np.power((np.dot(x, W) - y),2)\n",
    "        L += cur\n",
    "    #print(L)\n",
    "    L_np[i, :] = L\n",
    "#print(L_np)\n",
    "#print(np.shape(L_np))"
   ]
  },
  {
   "cell_type": "code",
   "execution_count": null,
   "metadata": {},
   "outputs": [],
   "source": [
    "from matplotlib import pyplot as plt \n",
    "\n",
    "plt.plot(range(iterations), np.log10(L_np))\n",
    "plt.xlabel('Iterations')\n",
    "plt.ylabel('Log(L)')"
   ]
  },
  {
   "cell_type": "code",
   "execution_count": null,
   "metadata": {},
   "outputs": [],
   "source": [
    "plt.plot(range(iterations), W_np[:, 0])\n",
    "plt.plot(range(iterations), W_np[:, 1])\n",
    "plt.plot(range(iterations), W_np[:, 2])\n",
    "plt.plot(range(iterations), W_np[:, 3])\n",
    "plt.plot(range(iterations), W_np[:, 4])\n",
    "plt.legend(['w[0]', 'w[1]', 'w[2]', 'w[3]', 'w[4]'], loc='upper left')\n",
    "plt.xlabel('Iterations')\n",
    "plt.ylabel('W')"
   ]
  },
  {
   "cell_type": "code",
   "execution_count": null,
   "metadata": {},
   "outputs": [],
   "source": [
    "# W is diverging, and no it is not converging to a sparse solution"
   ]
  },
  {
   "cell_type": "markdown",
   "metadata": {},
   "source": [
    "### 3.2"
   ]
  },
  {
   "cell_type": "code",
   "execution_count": null,
   "metadata": {},
   "outputs": [],
   "source": []
  },
  {
   "cell_type": "code",
   "execution_count": null,
   "metadata": {},
   "outputs": [],
   "source": [
    "import numpy as np \n",
    "\n",
    "x_all = np.array([[1, -2, -1, -1, 1],[2, -1, 2, 0, -2],[-1, 0, 2, 2, 1]])\n",
    "y_all = np.array([[-7], [-1], [-1]])\n",
    "W = np.array([0.,0.,0.,0.,0.]).transpose()"
   ]
  },
  {
   "cell_type": "code",
   "execution_count": null,
   "metadata": {},
   "outputs": [],
   "source": [
    "lr = 0.02\n",
    "iterations = 200\n",
    "dW = 0\n",
    "num = 3 # datapoints"
   ]
  },
  {
   "cell_type": "code",
   "execution_count": null,
   "metadata": {},
   "outputs": [],
   "source": [
    "W_np = np.empty(shape=(iterations, 5))\n",
    "\n",
    "for i in range(iterations):\n",
    "    dW = 0\n",
    "    for j in range(num):\n",
    "        x = x_all[j]\n",
    "        y = y_all[j]\n",
    "        grad = 2 * np.dot(np.power(x,2), W) - 2 * x * y\n",
    "        dW += grad\n",
    "    \n",
    "    W -= lr * (dW / float(num))\n",
    "    \n",
    "    tmp = min(abs(W))\n",
    "    \n",
    "    ind = np.where(W == tmp)[0][0]\n",
    "    W[ind] = 0\n",
    "    new_W = np.delete(W, ind)\n",
    "\n",
    "    tmp = min(abs(new_W))\n",
    "    ind = np.where(W == tmp)[0][0]\n",
    "    W[ind] = 0\n",
    "    \n",
    "    #print(W)\n",
    "\n",
    "    W_np[i, :] = W\n",
    "#print(W_np)\n",
    "# print(np.shape(W_np))"
   ]
  },
  {
   "cell_type": "code",
   "execution_count": null,
   "metadata": {},
   "outputs": [],
   "source": [
    "L_np = np.empty(shape=(iterations, 1))\n",
    "\n",
    "for i in range(iterations):\n",
    "    L = 0\n",
    "    for j in range(num):\n",
    "        x = x_all[j]\n",
    "        y = y_all[j]\n",
    "        W = W_np[i, :]\n",
    "        cur = np.power((np.dot(x, W) - y),2)\n",
    "        L += cur\n",
    "    #print(L)\n",
    "    L_np[i, :] = L\n",
    "#print(L_np)\n",
    "#print(np.shape(L_np))"
   ]
  },
  {
   "cell_type": "code",
   "execution_count": null,
   "metadata": {},
   "outputs": [],
   "source": [
    "from matplotlib import pyplot as plt \n",
    "\n",
    "plt.plot(range(iterations), np.log10(L_np))\n",
    "plt.xlabel('Iterations')\n",
    "plt.ylabel('Log(L)')"
   ]
  },
  {
   "cell_type": "code",
   "execution_count": null,
   "metadata": {},
   "outputs": [],
   "source": [
    "plt.plot(range(iterations), W_np[:, 0])\n",
    "plt.plot(range(iterations), W_np[:, 1])\n",
    "plt.plot(range(iterations), W_np[:, 2])\n",
    "plt.plot(range(iterations), W_np[:, 3])\n",
    "plt.plot(range(iterations), W_np[:, 4])\n",
    "plt.legend(['w[0]', 'w[1]', 'w[2]', 'w[3]', 'w[4]'], loc='upper left')\n",
    "plt.xlabel('Iterations')\n",
    "plt.ylabel('W')"
   ]
  },
  {
   "cell_type": "code",
   "execution_count": null,
   "metadata": {},
   "outputs": [],
   "source": []
  },
  {
   "cell_type": "code",
   "execution_count": null,
   "metadata": {},
   "outputs": [],
   "source": []
  },
  {
   "cell_type": "code",
   "execution_count": null,
   "metadata": {},
   "outputs": [],
   "source": []
  },
  {
   "cell_type": "code",
   "execution_count": null,
   "metadata": {},
   "outputs": [],
   "source": []
  },
  {
   "cell_type": "code",
   "execution_count": null,
   "metadata": {},
   "outputs": [],
   "source": []
  }
 ],
 "metadata": {
  "kernelspec": {
   "display_name": "Python 3",
   "language": "python",
   "name": "python3"
  },
  "language_info": {
   "codemirror_mode": {
    "name": "ipython",
    "version": 3
   },
   "file_extension": ".py",
   "mimetype": "text/x-python",
   "name": "python",
   "nbconvert_exporter": "python",
   "pygments_lexer": "ipython3",
   "version": "3.7.3"
  }
 },
 "nbformat": 4,
 "nbformat_minor": 2
}
